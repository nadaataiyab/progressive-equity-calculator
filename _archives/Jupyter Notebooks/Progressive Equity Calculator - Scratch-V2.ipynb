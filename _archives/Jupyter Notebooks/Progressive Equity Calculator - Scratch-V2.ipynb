{
 "cells": [
  {
   "cell_type": "code",
   "execution_count": 19,
   "metadata": {
    "collapsed": true
   },
   "outputs": [],
   "source": [
    "from collections import defaultdict"
   ]
  },
  {
   "cell_type": "code",
   "execution_count": 1,
   "metadata": {
    "collapsed": true
   },
   "outputs": [],
   "source": [
    "exit_price = 30\n",
    "fin_independence = 3\n",
    "redistribution_tax = .5\n",
    "\n",
    "#Shareholders not subject to progressive equity, such as investors{name: % equity, }\n",
    "std_equity = {'angel1': [.1, 0] , 'venture1': [.1, 0] }\n",
    "std_equity_definitions = ['Equity Percent', 'Standard Payout']\n",
    "\n",
    "#Shareholders that are subject to progressive equity{name: % equity, eligible for redistribution(boolean)}\n",
    "prog_equity = {'founder1': [0.3, 0, False, True, 0, 0] , \n",
    "               'founder2' : [0.3, 0, False, True, 0, 0] , \n",
    "               'e1': [.075, 0, False, True, 0, 0], \n",
    "               'e2' : [.025, 0, False, True, 0, 0], \n",
    "               'e3' : [.05, 0, False, False, 0, 0], \n",
    "               'e4' : [.05, 0, False, False, 0, 0]}\n",
    "prog_equity_definitions = ['Equity Percent',  'Standard Payout Amount', \n",
    "                           'Triggered for Equity Tax', 'Eligible for Redistribution',\n",
    "                           'Progressive Payout Amount', 'Percent of Total Payout']"
   ]
  },
  {
   "cell_type": "code",
   "execution_count": 16,
   "metadata": {
    "collapsed": true
   },
   "outputs": [],
   "source": [
    "def standard_payout(exit_price, std_equity, prog_equity):\n",
    "    '''\n",
    "    Calculate payout that each shareholder would receive under a standard equity distribution.\n",
    "    \n",
    "    Parameters\n",
    "    ----------\n",
    "    \n",
    "    Results\n",
    "    -------\n",
    "    \n",
    "    \n",
    "    ''' \n",
    "    for name, data in std_equity.items():\n",
    "        equity_percent = data[0]\n",
    "        std_equity[name][1] = (equity_percent * exit_price)\n",
    "    \n",
    "    \n",
    "    for name, data in prog_equity.items():\n",
    "        equity_percent = data[0]\n",
    "        prog_equity[name][1] = (equity_percent * exit_price)\n",
    "    \n",
    "    return std_equity, prog_equity"
   ]
  },
  {
   "cell_type": "code",
   "execution_count": null,
   "metadata": {},
   "outputs": [],
   "source": [
    "std_equity, prog_equity = standard_payout(exit_price, std_equity, prog_equity)\n"
   ]
  },
  {
   "cell_type": "code",
   "execution_count": null,
   "metadata": {},
   "outputs": [],
   "source": [
    "std_equity, prog_equity"
   ]
  },
  {
   "cell_type": "code",
   "execution_count": 6,
   "metadata": {
    "collapsed": true
   },
   "outputs": [],
   "source": [
    "def triggered_list(prog_equity, fin_independence, redistribution_tax):\n",
    "    '''\n",
    "    Check if progressive equity holder will pass financial independence number and\n",
    "    be triggered for equity tax.\n",
    "    \n",
    "    '''\n",
    "    #Keeps track of who has been triggered in this round of calculations\n",
    "    triggered_current = defaultdict(list)\n",
    "    \n",
    "    for name, data in prog_equity.items():\n",
    "        standard_payout = data[1]\n",
    "        triggered = data[2]\n",
    "        if standard_payout > fin_independence and triggered == False: \n",
    "            redistribution_payout = (standard_payout - fin_independence) * redistribution_tax\n",
    "            triggered_current[name] = redistribution_payout\n",
    "            prog_equity[name][2] = True\n",
    "            prog_equity[name][4] = (standard_payout - redistribution_payout)\n",
    "    \n",
    "    return triggered_current, prog_equity"
   ]
  },
  {
   "cell_type": "code",
   "execution_count": null,
   "metadata": {},
   "outputs": [],
   "source": [
    "triggered_current, prog_equity = triggered_list(prog_equity, fin_independence, redistribution_tax)\n",
    "triggered_current, prog_equity"
   ]
  },
  {
   "cell_type": "code",
   "execution_count": 7,
   "metadata": {
    "collapsed": true
   },
   "outputs": [],
   "source": [
    "def contribute_pool(triggered_current):\n",
    "    '''\n",
    "    Equity holders that have been 'triggered' make a contribution to the redistribution pool.\n",
    "    \n",
    "    '''\n",
    "    \n",
    "    redistribution_pool = 0\n",
    "    \n",
    "    for values in triggered_current.values():\n",
    "        redistribution_pool += values\n",
    "    \n",
    "    return redistribution_pool\n",
    "        \n",
    "        \n",
    "    \n",
    "    \n",
    "    \n",
    "    "
   ]
  },
  {
   "cell_type": "code",
   "execution_count": null,
   "metadata": {},
   "outputs": [],
   "source": [
    "redistribution_pool = contribute_pool(triggered_current)\n",
    "redistribution_pool"
   ]
  },
  {
   "cell_type": "code",
   "execution_count": 8,
   "metadata": {
    "collapsed": true
   },
   "outputs": [],
   "source": [
    "def redistribution_denominator(prog_equity):\n",
    "    '''\n",
    "    Calculate denominator that will be used to determine the share of the redistribution pool\n",
    "    received by each employee. \n",
    "    \n",
    "    \n",
    "    '''\n",
    "    total_equity = 0\n",
    "    for data in prog_equity.values():\n",
    "        equity_percent = data[0]\n",
    "        triggered = data[2]\n",
    "        if triggered == False:\n",
    "            total_equity += equity_percent\n",
    "    return total_equity\n",
    "            "
   ]
  },
  {
   "cell_type": "code",
   "execution_count": null,
   "metadata": {},
   "outputs": [],
   "source": [
    "redistribution_denominator = redistribution_denominator(prog_equity)\n",
    "redistribution_denominator"
   ]
  },
  {
   "cell_type": "code",
   "execution_count": null,
   "metadata": {},
   "outputs": [],
   "source": [
    "redistribution_denominator = 0\n",
    "redistribution_denominator"
   ]
  },
  {
   "cell_type": "code",
   "execution_count": 9,
   "metadata": {
    "collapsed": true
   },
   "outputs": [],
   "source": [
    "def distribute_pool(prog_equity, redistribution_pool, redistribution_denominator):\n",
    "    '''\n",
    "    Distribute funds in pool to eligible employees based on their proportion of the equity\n",
    "    eligible for redistribution. The equity eligible for redistribution is the \"redistribution\n",
    "    denominator\".\n",
    "    \n",
    "    '''\n",
    "    for name, data in prog_equity.items():\n",
    "        equity_percent = data[0]\n",
    "        std_payout_amount = data[1]\n",
    "        triggered = data[2]\n",
    "        eligible = data[3]\n",
    "        if triggered == False and eligible == True:\n",
    "            redistribution_percent = equity_percent / redistribution_denominator\n",
    "            redistribution_received = redistribution_percent * redistribution_pool\n",
    "            prog_payout = redistribution_received + std_payout_amount\n",
    "            prog_equity[name][4] = std_payout_amount + prog_payout\n",
    "        elif triggered == False and eligible == False:\n",
    "            prog_equity[name][4] = std_payout_amount\n",
    "        \n",
    "    return prog_equity\n",
    "\n",
    "            \n",
    "    \n",
    "    "
   ]
  },
  {
   "cell_type": "code",
   "execution_count": null,
   "metadata": {},
   "outputs": [],
   "source": [
    "prog_equity = distribute_pool(prog_equity, redistribution_pool, redistribution_denominator)\n",
    "prog_equity"
   ]
  },
  {
   "cell_type": "code",
   "execution_count": 10,
   "metadata": {
    "collapsed": true
   },
   "outputs": [],
   "source": [
    "def test(std_equity, prog_equity, exit_price):\n",
    "    '''\n",
    "    Test to check that total payout equals the exit price. \n",
    "    \n",
    "    '''\n",
    "    test_exit_price = 0\n",
    "    for values in std_equity.values():\n",
    "        std_payout = values[1]\n",
    "        test_exit_price += std_payout\n",
    "    for values in prog_equity.values():\n",
    "        prog_payout = values[4]\n",
    "        test_exit_price += prog_payout\n",
    "    \n",
    "    if test_exit_price == exit_price:\n",
    "        return True\n",
    "    else:\n",
    "        return False\n",
    "    \n",
    "    "
   ]
  },
  {
   "cell_type": "code",
   "execution_count": null,
   "metadata": {},
   "outputs": [],
   "source": [
    "test_result = test(std_equity, prog_equity, exit_price)\n",
    "test_result"
   ]
  },
  {
   "cell_type": "code",
   "execution_count": 11,
   "metadata": {
    "collapsed": true
   },
   "outputs": [],
   "source": [
    "def percent_final_payout(prog_equity, exit_price):\n",
    "    '''\n",
    "    Calculate the percent of the total exit price received by each progressive equity holder.\n",
    "    \n",
    "    '''\n",
    "    for name, data in prog_equity.items():\n",
    "        prog_equity[name][5] = data[4] / exit_price\n",
    "    return prog_equity\n",
    "    "
   ]
  },
  {
   "cell_type": "code",
   "execution_count": null,
   "metadata": {},
   "outputs": [],
   "source": [
    "prog_equity = percent_final_payout(prog_equity, exit_price)\n",
    "prog_equity"
   ]
  },
  {
   "cell_type": "code",
   "execution_count": 12,
   "metadata": {},
   "outputs": [
    {
     "data": {
      "text/plain": [
       "{'angel1': [0.1, 0], 'venture1': [0.1, 0]}"
      ]
     },
     "execution_count": 12,
     "metadata": {},
     "output_type": "execute_result"
    }
   ],
   "source": [
    "std_equity"
   ]
  },
  {
   "cell_type": "code",
   "execution_count": 13,
   "metadata": {},
   "outputs": [
    {
     "data": {
      "text/plain": [
       "{'e1': [0.075, 0, False, True, 0, 0],\n",
       " 'e2': [0.025, 0, False, True, 0, 0],\n",
       " 'e3': [0.05, 0, False, False, 0, 0],\n",
       " 'e4': [0.05, 0, False, False, 0, 0],\n",
       " 'founder1': [0.3, 0, False, True, 0, 0],\n",
       " 'founder2': [0.3, 0, False, True, 0, 0]}"
      ]
     },
     "execution_count": 13,
     "metadata": {},
     "output_type": "execute_result"
    }
   ],
   "source": [
    "prog_equity"
   ]
  },
  {
   "cell_type": "code",
   "execution_count": 20,
   "metadata": {},
   "outputs": [],
   "source": [
    "def calculate_payouts(exit_price, fin_independence, redistribution_tax, std_equity, prog_equity):\n",
    "    '''\n",
    "    Calculate payouts for each equity holder in a progressive equity scheme. \n",
    "    \n",
    "    '''\n",
    "        \n",
    "    #Calculate the standard payout\n",
    "    std_equity_1, prog_equity_1 = standard_payout(exit_price, std_equity, prog_equity)\n",
    "    print(type(prog_equity_1))\n",
    "    \n",
    "    #Determine who would be triggered for the equity tax\n",
    "    triggered_current, prog_equity_1 = triggered_list(prog_equity_1, fin_independence, redistribution_tax)\n",
    "    print(type(prog_equity_1))\n",
    "    \n",
    "    #Contribute funds to the redistrubtion pool\n",
    "    redistribution_pool = contribute_pool(triggered_current)\n",
    "    print(type(prog_equity_1))\n",
    "    \n",
    "#     #Calculate the denominator used to determine the distribution of the pool\n",
    "#     denominator = redistribution_denominator(prog_equity=prog_equity_1)\n",
    "    \n",
    "#     #Distribute the pool to eligible equity holders\n",
    "#     prog_equity_1 = distribute_pool(prog_equity_1, redistribution_pool, denominator)\n",
    "    \n",
    "#     #Calculate the percent of the total exit price received by each progressive equity holder\n",
    "#     prog_equity_1 = percent_final_payout(prog_equity_1, exit_price)\n",
    "    \n",
    "#     #Check that total payouts equal the exit price\n",
    "#     test_result = test(std_equity_1, prog_equity_1, exit_price)\n",
    "    \n",
    "#     if test_result == False:\n",
    "#         print(\"The total payouts do not equal the exit price. There is an error.\")\n",
    "        \n",
    "    return std_equity_1, prog_equity_1\n",
    "        \n",
    "    \n",
    "    "
   ]
  },
  {
   "cell_type": "code",
   "execution_count": 21,
   "metadata": {},
   "outputs": [
    {
     "name": "stdout",
     "output_type": "stream",
     "text": [
      "<class 'dict'>\n",
      "<class 'dict'>\n",
      "<class 'dict'>\n"
     ]
    },
    {
     "data": {
      "text/plain": [
       "({'angel1': [0.1, 3.0], 'venture1': [0.1, 3.0]},\n",
       " {'e1': [0.075, 2.25, False, True, 0, 0],\n",
       "  'e2': [0.025, 0.75, False, True, 0, 0],\n",
       "  'e3': [0.05, 1.5, False, False, 0, 0],\n",
       "  'e4': [0.05, 1.5, False, False, 0, 0],\n",
       "  'founder1': [0.3, 9.0, True, True, 6.0, 0],\n",
       "  'founder2': [0.3, 9.0, True, True, 6.0, 0]})"
      ]
     },
     "execution_count": 21,
     "metadata": {},
     "output_type": "execute_result"
    }
   ],
   "source": [
    "calculate_payouts(exit_price, fin_independence, redistribution_tax, std_equity, prog_equity)"
   ]
  },
  {
   "cell_type": "code",
   "execution_count": 22,
   "metadata": {},
   "outputs": [
    {
     "data": {
      "text/plain": [
       "{'angel1': [0.1, 3.0], 'venture1': [0.1, 3.0]}"
      ]
     },
     "execution_count": 22,
     "metadata": {},
     "output_type": "execute_result"
    }
   ],
   "source": [
    "std_equity"
   ]
  },
  {
   "cell_type": "code",
   "execution_count": 23,
   "metadata": {},
   "outputs": [
    {
     "data": {
      "text/plain": [
       "{'e1': [0.075, 2.25, False, True, 0, 0],\n",
       " 'e2': [0.025, 0.75, False, True, 0, 0],\n",
       " 'e3': [0.05, 1.5, False, False, 0, 0],\n",
       " 'e4': [0.05, 1.5, False, False, 0, 0],\n",
       " 'founder1': [0.3, 9.0, True, True, 6.0, 0],\n",
       " 'founder2': [0.3, 9.0, True, True, 6.0, 0]}"
      ]
     },
     "execution_count": 23,
     "metadata": {},
     "output_type": "execute_result"
    }
   ],
   "source": [
    "prog_equity"
   ]
  },
  {
   "cell_type": "code",
   "execution_count": null,
   "metadata": {
    "collapsed": true
   },
   "outputs": [],
   "source": []
  }
 ],
 "metadata": {
  "kernelspec": {
   "display_name": "Python [conda env:py36]",
   "language": "python",
   "name": "conda-env-py36-py"
  },
  "language_info": {
   "codemirror_mode": {
    "name": "ipython",
    "version": 3
   },
   "file_extension": ".py",
   "mimetype": "text/x-python",
   "name": "python",
   "nbconvert_exporter": "python",
   "pygments_lexer": "ipython3",
   "version": "3.6.1"
  }
 },
 "nbformat": 4,
 "nbformat_minor": 2
}
