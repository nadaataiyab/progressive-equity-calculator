{
 "cells": [
  {
   "cell_type": "code",
   "execution_count": 46,
   "metadata": {},
   "outputs": [],
   "source": [
    "def parse_input(equity_names, equity_percent, progressive, employed):\n",
    "    '''\n",
    "    Take input from web form and parse it so that it can be used in the functions used to calculate payouts.\n",
    "    '''\n",
    "    equity_names = equity_names.split(',')\n",
    "    \n",
    "    equity_percent = equity_percent.split(',')\n",
    "    equity_percent = [float(n) for n in equity_percent]\n",
    "    \n",
    "    progressive = progressive.split(',')\n",
    "    progressive = [item.strip() for item in progressive]\n",
    "    progressive = [True if n == 'True' else False for n in progressive]\n",
    "    \n",
    "    employed = employed.split(',')\n",
    "    employed = [item.strip() for item in employed]\n",
    "    employed = employed = [True if n =='True' else False for n in employed]\n",
    "    \n",
    "    equity_holders = dict(zip(equity_names, list(zip(equity_percent, progressive, employed))))\n",
    "    equity_holders = {name : list(values) for name, values in equity_holders.items()}\n",
    "    \n",
    "    \n",
    "    for name, data in equity_holders.items():\n",
    "        data.append(0)\n",
    "        data.append(0)\n",
    "        data.insert(2, False)\n",
    "\n",
    "    return equity_holders"
   ]
  },
  {
   "cell_type": "code",
   "execution_count": 47,
   "metadata": {
    "collapsed": true
   },
   "outputs": [],
   "source": [
    "equity_names = \"investor_1, investor_2, founder_1, founder_2, employee_1, employee_2, employee_3, employee_4\"\n",
    "equity_percent =  \"0.1, 0.1, 0.25, 0.25, 0.1, 0.1, 0.05, 0.05\"\n",
    "progressive =  \"False, False, True, True, True, True, True, True\"\n",
    "employed = \"False, False, True, True, True, False, True, False\""
   ]
  },
  {
   "cell_type": "code",
   "execution_count": 48,
   "metadata": {},
   "outputs": [],
   "source": [
    "equity_holders = parse_input(equity_names, equity_percent, progressive, employed)"
   ]
  },
  {
   "cell_type": "code",
   "execution_count": 49,
   "metadata": {},
   "outputs": [
    {
     "data": {
      "text/plain": [
       "{' employee_1': [0.1, True, False, True, 0, 0],\n",
       " ' employee_2': [0.1, True, False, False, 0, 0],\n",
       " ' employee_3': [0.05, True, False, True, 0, 0],\n",
       " ' employee_4': [0.05, True, False, False, 0, 0],\n",
       " ' founder_1': [0.25, True, False, True, 0, 0],\n",
       " ' founder_2': [0.25, True, False, True, 0, 0],\n",
       " ' investor_2': [0.1, False, False, False, 0, 0],\n",
       " 'investor_1': [0.1, False, False, False, 0, 0]}"
      ]
     },
     "execution_count": 49,
     "metadata": {},
     "output_type": "execute_result"
    }
   ],
   "source": [
    "equity_holders"
   ]
  },
  {
   "cell_type": "code",
   "execution_count": 27,
   "metadata": {},
   "outputs": [],
   "source": [
    "equity_names = equity_names.split(',')"
   ]
  },
  {
   "cell_type": "code",
   "execution_count": 28,
   "metadata": {},
   "outputs": [
    {
     "data": {
      "text/plain": [
       "['investor_1',\n",
       " ' investor_2',\n",
       " ' founder_1',\n",
       " ' founder_2',\n",
       " ' employee_1',\n",
       " ' employee_2',\n",
       " ' employee_3',\n",
       " ' employee_4']"
      ]
     },
     "execution_count": 28,
     "metadata": {},
     "output_type": "execute_result"
    }
   ],
   "source": [
    "equity_names"
   ]
  },
  {
   "cell_type": "code",
   "execution_count": 29,
   "metadata": {},
   "outputs": [],
   "source": [
    "equity_percent = equity_percent.split(',')"
   ]
  },
  {
   "cell_type": "code",
   "execution_count": 30,
   "metadata": {
    "collapsed": true
   },
   "outputs": [],
   "source": [
    "equity_percent = [float(n) for n in equity_percent]"
   ]
  },
  {
   "cell_type": "code",
   "execution_count": 31,
   "metadata": {},
   "outputs": [
    {
     "data": {
      "text/plain": [
       "[0.1, 0.1, 0.25, 0.25, 0.1, 0.1, 0.05, 0.05]"
      ]
     },
     "execution_count": 31,
     "metadata": {},
     "output_type": "execute_result"
    }
   ],
   "source": [
    "equity_percent"
   ]
  },
  {
   "cell_type": "code",
   "execution_count": 39,
   "metadata": {},
   "outputs": [
    {
     "data": {
      "text/plain": [
       "['False', 'False', 'True', 'True', 'True', 'True', 'True', 'True']"
      ]
     },
     "execution_count": 39,
     "metadata": {},
     "output_type": "execute_result"
    }
   ],
   "source": [
    "progressive = progressive.split(',')\n",
    "progressive = [item.strip() for item in progressive]\n",
    "progressive"
   ]
  },
  {
   "cell_type": "code",
   "execution_count": 40,
   "metadata": {},
   "outputs": [],
   "source": [
    "progressive = [True if n == 'True' else 'False' for n in progressive]"
   ]
  },
  {
   "cell_type": "code",
   "execution_count": 41,
   "metadata": {},
   "outputs": [
    {
     "data": {
      "text/plain": [
       "['False', 'False', True, True, True, True, True, True]"
      ]
     },
     "execution_count": 41,
     "metadata": {},
     "output_type": "execute_result"
    }
   ],
   "source": [
    "progressive"
   ]
  },
  {
   "cell_type": "code",
   "execution_count": 35,
   "metadata": {
    "collapsed": true
   },
   "outputs": [],
   "source": [
    "test = \" test\""
   ]
  },
  {
   "cell_type": "code",
   "execution_count": 36,
   "metadata": {},
   "outputs": [
    {
     "data": {
      "text/plain": [
       "'test'"
      ]
     },
     "execution_count": 36,
     "metadata": {},
     "output_type": "execute_result"
    }
   ],
   "source": [
    "test.strip()"
   ]
  },
  {
   "cell_type": "code",
   "execution_count": 34,
   "metadata": {},
   "outputs": [
    {
     "data": {
      "text/plain": [
       "['False', 'False', 'False', 'False', 'False', 'False', 'False', 'False']"
      ]
     },
     "execution_count": 34,
     "metadata": {},
     "output_type": "execute_result"
    }
   ],
   "source": [
    "progressive"
   ]
  },
  {
   "cell_type": "code",
   "execution_count": 19,
   "metadata": {
    "collapsed": true
   },
   "outputs": [],
   "source": [
    "employed = employed.split(',')"
   ]
  },
  {
   "cell_type": "code",
   "execution_count": 20,
   "metadata": {
    "collapsed": true
   },
   "outputs": [],
   "source": [
    "employed = [bool(n) for n in employed]"
   ]
  },
  {
   "cell_type": "code",
   "execution_count": 21,
   "metadata": {},
   "outputs": [
    {
     "data": {
      "text/plain": [
       "[True, True, True, True, True, True, True, True]"
      ]
     },
     "execution_count": 21,
     "metadata": {},
     "output_type": "execute_result"
    }
   ],
   "source": [
    "employed"
   ]
  },
  {
   "cell_type": "code",
   "execution_count": 22,
   "metadata": {},
   "outputs": [],
   "source": [
    "info = dict(zip(equity_names, list(zip(equity_percent, progressive, employed))))"
   ]
  },
  {
   "cell_type": "code",
   "execution_count": 23,
   "metadata": {},
   "outputs": [
    {
     "data": {
      "text/plain": [
       "{' employee_1': (0.1, True, True),\n",
       " ' employee_2': (0.1, True, True),\n",
       " ' employee_3': (0.05, True, True),\n",
       " ' employee_4': (0.05, True, True),\n",
       " ' founder_1': (0.25, True, True),\n",
       " ' founder_2': (0.25, True, True),\n",
       " ' investor_2': (0.1, True, True),\n",
       " 'investor_1': (0.1, True, True)}"
      ]
     },
     "execution_count": 23,
     "metadata": {},
     "output_type": "execute_result"
    }
   ],
   "source": [
    "info"
   ]
  },
  {
   "cell_type": "code",
   "execution_count": 24,
   "metadata": {},
   "outputs": [],
   "source": [
    "info = { name : list(values) for name, values in info.items()}"
   ]
  },
  {
   "cell_type": "code",
   "execution_count": null,
   "metadata": {},
   "outputs": [],
   "source": [
    "info"
   ]
  },
  {
   "cell_type": "code",
   "execution_count": 50,
   "metadata": {
    "collapsed": true
   },
   "outputs": [],
   "source": [
    "test = '50'"
   ]
  },
  {
   "cell_type": "code",
   "execution_count": 51,
   "metadata": {
    "collapsed": true
   },
   "outputs": [],
   "source": [
    "test = float(test)"
   ]
  },
  {
   "cell_type": "code",
   "execution_count": 52,
   "metadata": {},
   "outputs": [
    {
     "data": {
      "text/plain": [
       "50.0"
      ]
     },
     "execution_count": 52,
     "metadata": {},
     "output_type": "execute_result"
    }
   ],
   "source": [
    "test"
   ]
  },
  {
   "cell_type": "code",
   "execution_count": null,
   "metadata": {
    "collapsed": true
   },
   "outputs": [],
   "source": []
  }
 ],
 "metadata": {
  "kernelspec": {
   "display_name": "Python [conda env:py36]",
   "language": "python",
   "name": "conda-env-py36-py"
  },
  "language_info": {
   "codemirror_mode": {
    "name": "ipython",
    "version": 3
   },
   "file_extension": ".py",
   "mimetype": "text/x-python",
   "name": "python",
   "nbconvert_exporter": "python",
   "pygments_lexer": "ipython3",
   "version": "3.6.1"
  }
 },
 "nbformat": 4,
 "nbformat_minor": 2
}
