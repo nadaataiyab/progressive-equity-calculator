{
 "cells": [
  {
   "cell_type": "code",
   "execution_count": 295,
   "metadata": {
    "collapsed": true
   },
   "outputs": [],
   "source": [
    "from collections import defaultdict"
   ]
  },
  {
   "cell_type": "code",
   "execution_count": 311,
   "metadata": {
    "collapsed": true
   },
   "outputs": [],
   "source": [
    "exit_price = 30\n",
    "fin_independence = 3\n",
    "redistribution_tax = .5\n",
    "std_equity = {'angel1': .1 , 'venture1': .1 }\n",
    "prog_equity = {'founder1': 0.3 , 'founder2' : 0.3 , 'e1': .05, 'e2' : .05, 'e3' : .05, 'e4' : .05}\n",
    "definitions = ['Equity Percent', 'Standard Payout', 'Triggered', 'Progressive Payout']"
   ]
  },
  {
   "cell_type": "code",
   "execution_count": 297,
   "metadata": {},
   "outputs": [],
   "source": [
    "def standard_payout(exit_price, std_equity, prog_equity):\n",
    "    exit_price_dollars = exit_price\n",
    "    std_payout = defaultdict(list)\n",
    "    prog_payout = defaultdict(list)\n",
    "    \n",
    "    for name, equity_percent in std_equity.items():\n",
    "        std_payout[name] = [equity_percent, equity_percent * exit_price]\n",
    "    \n",
    "    for name, equity_percent in prog_equity.items():\n",
    "        prog_payout[name] = [equity_percent, equity_percent * exit_price, False]\n",
    "    \n",
    "    return std_payout, prog_payout\n",
    "    \n",
    "    \n",
    "    "
   ]
  },
  {
   "cell_type": "code",
   "execution_count": 298,
   "metadata": {},
   "outputs": [
    {
     "name": "stdout",
     "output_type": "stream",
     "text": [
      "defaultdict(<class 'list'>, {'angel1': [0.1, 3.0], 'venture1': [0.1, 3.0]}) defaultdict(<class 'list'>, {'founder1': [0.3, 9.0, False], 'founder2': [0.3, 9.0, False], 'e1': [0.05, 1.5, False], 'e2': [0.05, 1.5, False], 'e3': [0.05, 1.5, False], 'e4': [0.05, 1.5, False]})\n"
     ]
    }
   ],
   "source": [
    "std_payout, prog_payout = standard_payout(exit_price, std_equity, prog_equity)\n",
    "print(std_payout, prog_payout)"
   ]
  },
  {
   "cell_type": "code",
   "execution_count": 299,
   "metadata": {},
   "outputs": [],
   "source": [
    "def triggered_list(prog_payout, fin_independence, redistribution_tax):\n",
    "    \n",
    "    triggered = defaultdict(list)\n",
    "    \n",
    "    for name, values in prog_payout.items():\n",
    "        standard_payout = prog_payout[name][1]\n",
    "        if standard_payout > fin_independence and values[2] == False: \n",
    "            redistribution_payout = (standard_payout - fin_independence) * redistribution_tax\n",
    "            triggered[name] = redistribution_payout\n",
    "            values[2] = True\n",
    "            values.append((standard_payout - redistribution_payout))\n",
    "    \n",
    "    return triggered, prog_payout"
   ]
  },
  {
   "cell_type": "code",
   "execution_count": 300,
   "metadata": {},
   "outputs": [
    {
     "data": {
      "text/plain": [
       "(defaultdict(list, {'founder1': 3.0, 'founder2': 3.0}),\n",
       " defaultdict(list,\n",
       "             {'e1': [0.05, 1.5, False],\n",
       "              'e2': [0.05, 1.5, False],\n",
       "              'e3': [0.05, 1.5, False],\n",
       "              'e4': [0.05, 1.5, False],\n",
       "              'founder1': [0.3, 9.0, True, 6.0],\n",
       "              'founder2': [0.3, 9.0, True, 6.0]}))"
      ]
     },
     "execution_count": 300,
     "metadata": {},
     "output_type": "execute_result"
    }
   ],
   "source": [
    "triggered, prog_payout = triggered_list(prog_payout, fin_independence, redistribution_tax)\n",
    "triggered, prog_payout"
   ]
  },
  {
   "cell_type": "code",
   "execution_count": 301,
   "metadata": {
    "collapsed": true
   },
   "outputs": [],
   "source": [
    "def contribute_pool(triggered):\n",
    "    \n",
    "    redistribution_pool = 0\n",
    "    \n",
    "    for values in triggered.values():\n",
    "        redistribution_pool += values\n",
    "    \n",
    "    return redistribution_pool\n",
    "        \n",
    "        \n",
    "    \n",
    "    \n",
    "    \n",
    "    "
   ]
  },
  {
   "cell_type": "code",
   "execution_count": 302,
   "metadata": {},
   "outputs": [
    {
     "data": {
      "text/plain": [
       "6.0"
      ]
     },
     "execution_count": 302,
     "metadata": {},
     "output_type": "execute_result"
    }
   ],
   "source": [
    "redistribution_pool = contribute_pool(triggered)\n",
    "redistribution_pool"
   ]
  },
  {
   "cell_type": "code",
   "execution_count": 303,
   "metadata": {
    "collapsed": true
   },
   "outputs": [],
   "source": [
    "def redistribution_denominator(prog_payout):\n",
    "    total_equity = float(0)\n",
    "    for values in prog_payout.values():\n",
    "        equity_percent = values[0]\n",
    "        triggered_boolean = values[2]\n",
    "        if triggered_boolean == False:\n",
    "            total_equity += equity_percent\n",
    "    return total_equity\n",
    "            "
   ]
  },
  {
   "cell_type": "code",
   "execution_count": 304,
   "metadata": {},
   "outputs": [
    {
     "name": "stdout",
     "output_type": "stream",
     "text": [
      "0.2\n"
     ]
    }
   ],
   "source": [
    "redistribution_denominator = redistribution_denominator(prog_payout)\n",
    "print(redistribution_denominator)"
   ]
  },
  {
   "cell_type": "code",
   "execution_count": 305,
   "metadata": {
    "collapsed": true
   },
   "outputs": [],
   "source": [
    "def distribute_pool(prog_payout, redistribution_pool, redistribution_denominator):\n",
    "    for name, values in prog_payout.items():\n",
    "        equity_percent = values[0]\n",
    "        std_payout_amount = values[1]\n",
    "        triggered_boolean = values[2]\n",
    "        if triggered_boolean == False:\n",
    "            redistribution_percent = equity_percent / redistribution_denominator\n",
    "            redistribution_received = redistribution_percent * redistribution_pool\n",
    "            values.append(redistribution_received + std_payout_amount)\n",
    "        \n",
    "    return prog_payout\n",
    "\n",
    "            \n",
    "    \n",
    "    "
   ]
  },
  {
   "cell_type": "code",
   "execution_count": 306,
   "metadata": {},
   "outputs": [
    {
     "data": {
      "text/plain": [
       "defaultdict(list,\n",
       "            {'e1': [0.05, 1.5, False, 3.0],\n",
       "             'e2': [0.05, 1.5, False, 3.0],\n",
       "             'e3': [0.05, 1.5, False, 3.0],\n",
       "             'e4': [0.05, 1.5, False, 3.0],\n",
       "             'founder1': [0.3, 9.0, True, 6.0],\n",
       "             'founder2': [0.3, 9.0, True, 6.0]})"
      ]
     },
     "execution_count": 306,
     "metadata": {},
     "output_type": "execute_result"
    }
   ],
   "source": [
    "prog_payout = distribute_pool(prog_payout, redistribution_pool, redistribution_denominator)\n",
    "prog_payout"
   ]
  },
  {
   "cell_type": "code",
   "execution_count": 307,
   "metadata": {},
   "outputs": [
    {
     "data": {
      "text/plain": [
       "defaultdict(list, {'angel1': [0.1, 3.0], 'venture1': [0.1, 3.0]})"
      ]
     },
     "execution_count": 307,
     "metadata": {},
     "output_type": "execute_result"
    }
   ],
   "source": [
    "std_payout"
   ]
  },
  {
   "cell_type": "code",
   "execution_count": 308,
   "metadata": {
    "collapsed": true
   },
   "outputs": [],
   "source": [
    "def test(std_payout, prog_payout, exit_price):\n",
    "    test_exit_price = 0\n",
    "    for values in std_payout.values():\n",
    "        test_exit_price += values[1]\n",
    "    for values in prog_payout.values():\n",
    "        test_exit_price += values[3]\n",
    "    \n",
    "    if test_exit_price == exit_price:\n",
    "        return True\n",
    "    else:\n",
    "        return False"
   ]
  },
  {
   "cell_type": "code",
   "execution_count": 310,
   "metadata": {},
   "outputs": [
    {
     "data": {
      "text/plain": [
       "True"
      ]
     },
     "execution_count": 310,
     "metadata": {},
     "output_type": "execute_result"
    }
   ],
   "source": [
    "test_result = test(std_payout, prog_payout, exit_price)\n",
    "test_result"
   ]
  },
  {
   "cell_type": "code",
   "execution_count": null,
   "metadata": {
    "collapsed": true
   },
   "outputs": [],
   "source": []
  }
 ],
 "metadata": {
  "kernelspec": {
   "display_name": "Python [conda env:py36]",
   "language": "python",
   "name": "conda-env-py36-py"
  },
  "language_info": {
   "codemirror_mode": {
    "name": "ipython",
    "version": 3
   },
   "file_extension": ".py",
   "mimetype": "text/x-python",
   "name": "python",
   "nbconvert_exporter": "python",
   "pygments_lexer": "ipython3",
   "version": "3.6.1"
  }
 },
 "nbformat": 4,
 "nbformat_minor": 2
}
