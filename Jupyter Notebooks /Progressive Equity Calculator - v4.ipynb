{
 "cells": [
  {
   "cell_type": "code",
   "execution_count": 443,
   "metadata": {
    "collapsed": true
   },
   "outputs": [],
   "source": [
    "import pandas as pd\n",
    "from collections import defaultdict"
   ]
  },
  {
   "cell_type": "code",
   "execution_count": 488,
   "metadata": {},
   "outputs": [],
   "source": [
    "exit_price = 175\n",
    "fin_independence = 15\n",
    "tax = .5\n",
    "\n",
    "equity_holders_definitions = ['Equity Percent [0]', 'Subject to Progressive [1]', 'Triggered [2]',\n",
    "                             'Employed [3]', 'Payout [4]']\n",
    "\n",
    "equity_holders = {'angel1' :  [.1, False, False, False, 0 ],\n",
    "                 'venture1':  [.1, False, False, False, 0],\n",
    "                 'founder1':  [.25, True, False, True, 0],\n",
    "                 'founder2':  [.25, True, False, True, 0],\n",
    "                 'employee1': [.1, True, False, True, 0],\n",
    "                 'employee2': [.1, True, False, False, 0],\n",
    "                 'employee3': [.05, True, False, True, 0],\n",
    "                 'employee4': [.05, True, False, False, 0]}\n"
   ]
  },
  {
   "cell_type": "code",
   "execution_count": 489,
   "metadata": {
    "collapsed": true
   },
   "outputs": [],
   "source": [
    "def check_equity_balance(equity_holders):\n",
    "    '''\n",
    "    Checks to ensure that the equity values inputted add up to 1. \n",
    "    \n",
    "    '''\n",
    "    total_equity = 0\n",
    "    for data in equity_holders.values():\n",
    "        equity = data[0]\n",
    "        total_equity += equity    \n",
    "        \n",
    "    if total_equity != 1:\n",
    "        print(\"Error in equity input. Total equity does not add up to 1. \\n\" \n",
    "              \"Total equity = \", total_equity, '.')\n",
    "        return False\n",
    "    else:\n",
    "        return True\n",
    "        "
   ]
  },
  {
   "cell_type": "code",
   "execution_count": 490,
   "metadata": {},
   "outputs": [
    {
     "name": "stdout",
     "output_type": "stream",
     "text": [
      "True\n"
     ]
    }
   ],
   "source": [
    "print(check_equity_balance(equity_holders))"
   ]
  },
  {
   "cell_type": "code",
   "execution_count": 491,
   "metadata": {},
   "outputs": [],
   "source": [
    "def round_1(equity_holders, exit_price, fin_independence, tax ):\n",
    "    pool = 0\n",
    "    \n",
    "    for name, data in equity_holders.items():\n",
    "        equity_percent = data[0]\n",
    "        subject_progressive = data[1]\n",
    "        payout = (equity_percent * exit_price)\n",
    "        if subject_progressive == False:\n",
    "            equity_holders[name][4] = payout\n",
    "        \n",
    "        else:\n",
    "            if payout > fin_independence:\n",
    "                tax = ((payout - fin_independence) / 2)\n",
    "                pool += tax\n",
    "                payout -= tax\n",
    "                equity_holders[name][4] = payout                \n",
    "                equity_holders[name][2] = True\n",
    "            else:\n",
    "                equity_holders[name][4] = payout\n",
    "    return pool, equity_holders"
   ]
  },
  {
   "cell_type": "code",
   "execution_count": 492,
   "metadata": {
    "collapsed": true
   },
   "outputs": [],
   "source": [
    "def redistribution_denominator(pool, equity_holders, fin_independence):\n",
    "    equity_denominator = 0\n",
    "    for name, data in equity_holders.items():\n",
    "        equity = data[0]\n",
    "        triggered = data[2]\n",
    "        employed = data[3]\n",
    "        if triggered == False and employed == True:\n",
    "            equity_denominator += equity\n",
    "                \n",
    "    return equity_denominator\n",
    "    \n"
   ]
  },
  {
   "cell_type": "code",
   "execution_count": 493,
   "metadata": {
    "collapsed": true
   },
   "outputs": [],
   "source": [
    "    def distribute_pool(pool, equity_holders, fin_independence, equity_denominator):\n",
    "        '''\n",
    "\n",
    "        '''\n",
    "        distributed_funds = 0\n",
    "        for name, data in equity_holders.items():\n",
    "            equity = data[0]\n",
    "            triggered = data[2]\n",
    "            employed = data[3]\n",
    "            payout = data[4]\n",
    "            if triggered == False and employed == True:\n",
    "                max_redistribution = (equity / equity_denominator * pool + payout)\n",
    "                fin_independence_gap = fin_independence - payout\n",
    "                redistribution = min(fin_independence_gap, max_redistribution)\n",
    "                distributed_funds += redistribution\n",
    "                equity_holders[name][4] = payout + redistribution\n",
    "                equity_holders[name][2] = True\n",
    "\n",
    "        pool -= distributed_funds        \n",
    "\n",
    "        return pool, equity_holders"
   ]
  },
  {
   "cell_type": "code",
   "execution_count": 494,
   "metadata": {
    "collapsed": true
   },
   "outputs": [],
   "source": [
    "def final_distribution(equity_holders, pool):\n",
    "    equity_denominator = 0\n",
    "    for name, data in equity_holders.items():\n",
    "        equity = data[0]\n",
    "        progressive = data[1]\n",
    "        employed = data[3]\n",
    "        if progressive == True and employed == True:\n",
    "            equity_denominator += equity\n",
    "        \n",
    "    for name, data in equity_holders.items():\n",
    "        equity = data[0]\n",
    "        progressive = data[1]\n",
    "        employed = data[3]\n",
    "        payout = data[4]\n",
    "        if progressive == True and employed == True:\n",
    "            distribution = equity / equity_denominator * pool\n",
    "            equity_holders[name][4] += distribution\n",
    "        \n",
    "    return equity_holders "
   ]
  },
  {
   "cell_type": "code",
   "execution_count": 495,
   "metadata": {},
   "outputs": [],
   "source": [
    "def redistribution (equity_holders, pool, fin_independence):\n",
    "    equity_denominator = redistribution_denominator(pool, equity_holders, fin_independence)\n",
    "    if equity_denominator > 0:\n",
    "        pool, equity_holders = distribute_pool(pool, equity_holders, fin_independence, equity_denominator)\n",
    "        print(\"Pool: \", pool)\n",
    "        print(equity_holders)\n",
    "        if pool > 0:\n",
    "            redistribution(equity_holders, pool, fin_independence)\n",
    "            return equity_holders\n",
    "        else:\n",
    "            return equity_holders\n",
    "    \n",
    "    else:\n",
    "        equity_holders = final_distribution(equity_holders, pool)\n",
    "        return pool, equity_holders\n",
    "\n"
   ]
  },
  {
   "cell_type": "code",
   "execution_count": 496,
   "metadata": {
    "collapsed": true
   },
   "outputs": [],
   "source": [
    "def progressive_payout(exit_price, fin_independence, equity_holders, tax):  \n",
    "    check_equity_balance(equity_holders)\n",
    "    \n",
    "    pool, equity_holders = round_1(equity_holders, exit_price, fin_independence, tax)\n",
    "    print(\"Pool: \", pool)\n",
    "    print(equity_holders)\n",
    "        \n",
    "    if pool > 0:\n",
    "        equity_holders = redistribution(equity_holders, pool, fin_independence)\n",
    "        return pool, equity_holders\n",
    "            \n",
    "    else:\n",
    "        return equity_holders\n",
    "        \n",
    "    "
   ]
  },
  {
   "cell_type": "code",
   "execution_count": 497,
   "metadata": {},
   "outputs": [
    {
     "name": "stdout",
     "output_type": "stream",
     "text": [
      "Pool:  31.25\n",
      "{'angel1': [0.1, False, False, False, 17.5], 'venture1': [0.1, False, False, False, 17.5], 'founder1': [0.25, True, True, True, 29.375], 'founder2': [0.25, True, True, True, 29.375], 'employee1': [0.1, True, True, True, 16.25], 'employee2': [0.1, True, True, False, 16.25], 'employee3': [0.05, True, False, True, 8.75], 'employee4': [0.05, True, False, False, 8.75]}\n",
      "Pool:  25.0\n",
      "{'angel1': [0.1, False, False, False, 17.5], 'venture1': [0.1, False, False, False, 17.5], 'founder1': [0.25, True, True, True, 29.375], 'founder2': [0.25, True, True, True, 29.375], 'employee1': [0.1, True, True, True, 16.25], 'employee2': [0.1, True, True, False, 16.25], 'employee3': [0.05, True, True, True, 15.0], 'employee4': [0.05, True, False, False, 8.75]}\n"
     ]
    },
    {
     "data": {
      "text/plain": [
       "(31.25,\n",
       " {'angel1': [0.1, False, False, False, 17.5],\n",
       "  'employee1': [0.1, True, True, True, 20.096153846153847],\n",
       "  'employee2': [0.1, True, True, False, 16.25],\n",
       "  'employee3': [0.05, True, True, True, 16.923076923076923],\n",
       "  'employee4': [0.05, True, False, False, 8.75],\n",
       "  'founder1': [0.25, True, True, True, 38.99038461538461],\n",
       "  'founder2': [0.25, True, True, True, 38.99038461538461],\n",
       "  'venture1': [0.1, False, False, False, 17.5]})"
      ]
     },
     "execution_count": 497,
     "metadata": {},
     "output_type": "execute_result"
    }
   ],
   "source": [
    "progressive_payout(exit_price, fin_independence, equity_holders, tax)"
   ]
  },
  {
   "cell_type": "code",
   "execution_count": null,
   "metadata": {
    "collapsed": true
   },
   "outputs": [],
   "source": []
  },
  {
   "cell_type": "code",
   "execution_count": null,
   "metadata": {
    "collapsed": true
   },
   "outputs": [],
   "source": []
  },
  {
   "cell_type": "code",
   "execution_count": null,
   "metadata": {
    "collapsed": true
   },
   "outputs": [],
   "source": []
  },
  {
   "cell_type": "code",
   "execution_count": null,
   "metadata": {
    "collapsed": true
   },
   "outputs": [],
   "source": []
  }
 ],
 "metadata": {
  "kernelspec": {
   "display_name": "Python [conda env:py36]",
   "language": "python",
   "name": "conda-env-py36-py"
  },
  "language_info": {
   "codemirror_mode": {
    "name": "ipython",
    "version": 3
   },
   "file_extension": ".py",
   "mimetype": "text/x-python",
   "name": "python",
   "nbconvert_exporter": "python",
   "pygments_lexer": "ipython3",
   "version": "3.6.1"
  }
 },
 "nbformat": 4,
 "nbformat_minor": 2
}
