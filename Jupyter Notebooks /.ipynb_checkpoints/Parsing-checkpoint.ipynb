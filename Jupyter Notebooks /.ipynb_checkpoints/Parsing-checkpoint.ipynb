{
 "cells": [
  {
   "cell_type": "code",
   "execution_count": 79,
   "metadata": {
    "collapsed": true
   },
   "outputs": [],
   "source": [
    "def parse_input(equity_names, equity_percent, progressive, employed):\n",
    "    '''\n",
    "    Take input from web form and parse it so that it can be used in the functions used to calculate payouts.\n",
    "    '''\n",
    "    equity_names = equity_names.split(',')\n",
    "    \n",
    "    equity_percent = equity_percent.split(',')\n",
    "    equity_percent = [float(n) for n in equity_percent]\n",
    "    \n",
    "    progressive = progressive.split(',')\n",
    "    progressive = [bool(n) for n in progressive]\n",
    "    \n",
    "    employed = employed.split(',')\n",
    "    employed = employed = [bool(n) for n in employed]\n",
    "    \n",
    "    equity_holders = {name : list(values) for name, values in info.items()}\n",
    "    \n",
    "    return equity_holders"
   ]
  },
  {
   "cell_type": "code",
   "execution_count": null,
   "metadata": {
    "collapsed": true
   },
   "outputs": [],
   "source": []
  },
  {
   "cell_type": "code",
   "execution_count": null,
   "metadata": {
    "collapsed": true
   },
   "outputs": [],
   "source": []
  },
  {
   "cell_type": "code",
   "execution_count": null,
   "metadata": {
    "collapsed": true
   },
   "outputs": [],
   "source": []
  },
  {
   "cell_type": "code",
   "execution_count": 80,
   "metadata": {
    "collapsed": true
   },
   "outputs": [],
   "source": [
    "equity_names = \"investor_1, investor_2, founder_1, founder_2, employee_1, employee_2 employee_3, employee_4\"\n",
    "equity_percent =  \"0.1, 0.1, 0.25, 0.25, 0.1, 0.1, 0.05, 0.05\"\n",
    "progressive =  \"False, False, True, True, True, True, True, True\"\n",
    "employed = \"False, False, True, True, True, False, True, False\""
   ]
  },
  {
   "cell_type": "code",
   "execution_count": 81,
   "metadata": {},
   "outputs": [
    {
     "ename": "NameError",
     "evalue": "name 'equity_holders' is not defined",
     "output_type": "error",
     "traceback": [
      "\u001b[0;31m-------------------------------------------------------------------\u001b[0m",
      "\u001b[0;31mNameError\u001b[0m                         Traceback (most recent call last)",
      "\u001b[0;32m<ipython-input-81-7fe811422295>\u001b[0m in \u001b[0;36m<module>\u001b[0;34m()\u001b[0m\n\u001b[0;32m----> 1\u001b[0;31m \u001b[0mequity_holders\u001b[0m \u001b[0;34m=\u001b[0m \u001b[0mparse_input\u001b[0m\u001b[0;34m(\u001b[0m\u001b[0mequity_names\u001b[0m\u001b[0;34m,\u001b[0m \u001b[0mequity_percent\u001b[0m\u001b[0;34m,\u001b[0m \u001b[0mprogressive\u001b[0m\u001b[0;34m,\u001b[0m \u001b[0memployed\u001b[0m\u001b[0;34m)\u001b[0m\u001b[0;34m\u001b[0m\u001b[0m\n\u001b[0m",
      "\u001b[0;32m<ipython-input-79-958162319746>\u001b[0m in \u001b[0;36mparse_input\u001b[0;34m(equity_names, equity_percent, progressive, employed)\u001b[0m\n\u001b[1;32m      1\u001b[0m \u001b[0;32mdef\u001b[0m \u001b[0mparse_input\u001b[0m\u001b[0;34m(\u001b[0m\u001b[0mequity_names\u001b[0m\u001b[0;34m,\u001b[0m \u001b[0mequity_percent\u001b[0m\u001b[0;34m,\u001b[0m \u001b[0mprogressive\u001b[0m\u001b[0;34m,\u001b[0m \u001b[0memployed\u001b[0m\u001b[0;34m)\u001b[0m\u001b[0;34m:\u001b[0m\u001b[0;34m\u001b[0m\u001b[0m\n\u001b[1;32m      2\u001b[0m     \u001b[0;32mpass\u001b[0m\u001b[0;34m\u001b[0m\u001b[0m\n\u001b[0;32m----> 3\u001b[0;31m     \u001b[0;32mreturn\u001b[0m \u001b[0mequity_holders\u001b[0m\u001b[0;34m\u001b[0m\u001b[0m\n\u001b[0m",
      "\u001b[0;31mNameError\u001b[0m: name 'equity_holders' is not defined"
     ]
    }
   ],
   "source": [
    "equity_holders = parse_input(equity_names, equity_percent, progressive, employed)"
   ]
  },
  {
   "cell_type": "code",
   "execution_count": null,
   "metadata": {
    "collapsed": true
   },
   "outputs": [],
   "source": []
  },
  {
   "cell_type": "code",
   "execution_count": 76,
   "metadata": {},
   "outputs": [],
   "source": [
    "equity_names = equity_names.split(',')"
   ]
  },
  {
   "cell_type": "code",
   "execution_count": 77,
   "metadata": {},
   "outputs": [
    {
     "data": {
      "text/plain": [
       "['investor_1',\n",
       " ' investor_2',\n",
       " ' founder_1',\n",
       " ' founder_2',\n",
       " ' employee_1',\n",
       " ' employee_2 employee_3',\n",
       " ' employee_4']"
      ]
     },
     "execution_count": 77,
     "metadata": {},
     "output_type": "execute_result"
    }
   ],
   "source": [
    "equity_names"
   ]
  },
  {
   "cell_type": "code",
   "execution_count": 15,
   "metadata": {},
   "outputs": [],
   "source": [
    "equity_percent = equity_percent.split(',')"
   ]
  },
  {
   "cell_type": "code",
   "execution_count": 18,
   "metadata": {
    "collapsed": true
   },
   "outputs": [],
   "source": [
    "equity_percent = [float(n) for n in equity_percent]"
   ]
  },
  {
   "cell_type": "code",
   "execution_count": 19,
   "metadata": {},
   "outputs": [
    {
     "data": {
      "text/plain": [
       "[0.1, 0.1, 0.25, 0.25, 0.1, 0.1, 0.05, 0.05]"
      ]
     },
     "execution_count": 19,
     "metadata": {},
     "output_type": "execute_result"
    }
   ],
   "source": [
    "equity_percent"
   ]
  },
  {
   "cell_type": "code",
   "execution_count": 20,
   "metadata": {
    "collapsed": true
   },
   "outputs": [],
   "source": [
    "progressive = progressive.split(',')"
   ]
  },
  {
   "cell_type": "code",
   "execution_count": 22,
   "metadata": {},
   "outputs": [],
   "source": [
    "progressive = [bool(n) for n in progressive]"
   ]
  },
  {
   "cell_type": "code",
   "execution_count": 23,
   "metadata": {},
   "outputs": [
    {
     "data": {
      "text/plain": [
       "[True, True, True, True, True, True, True, True]"
      ]
     },
     "execution_count": 23,
     "metadata": {},
     "output_type": "execute_result"
    }
   ],
   "source": [
    "progressive"
   ]
  },
  {
   "cell_type": "code",
   "execution_count": 27,
   "metadata": {
    "collapsed": true
   },
   "outputs": [],
   "source": [
    "employed = employed.split(',')"
   ]
  },
  {
   "cell_type": "code",
   "execution_count": 28,
   "metadata": {
    "collapsed": true
   },
   "outputs": [],
   "source": [
    "employed = [bool(n) for n in employed]"
   ]
  },
  {
   "cell_type": "code",
   "execution_count": 29,
   "metadata": {},
   "outputs": [
    {
     "data": {
      "text/plain": [
       "[True, True, True, True, True, True, True, True]"
      ]
     },
     "execution_count": 29,
     "metadata": {},
     "output_type": "execute_result"
    }
   ],
   "source": [
    "employed"
   ]
  },
  {
   "cell_type": "code",
   "execution_count": 62,
   "metadata": {},
   "outputs": [],
   "source": [
    "info = dict(zip(equity_names, list(zip(equity_percent, progressive, employed))))"
   ]
  },
  {
   "cell_type": "code",
   "execution_count": 63,
   "metadata": {},
   "outputs": [
    {
     "data": {
      "text/plain": [
       "{' employee_1': (0.1, True, True),\n",
       " ' employee_2 employee_3': (0.1, True, True),\n",
       " ' employee_4': (0.05, True, True),\n",
       " ' founder_1': (0.25, True, True),\n",
       " ' founder_2': (0.25, True, True),\n",
       " ' investor_2': (0.1, True, True),\n",
       " 'investor_1': (0.1, True, True)}"
      ]
     },
     "execution_count": 63,
     "metadata": {},
     "output_type": "execute_result"
    }
   ],
   "source": [
    "info"
   ]
  },
  {
   "cell_type": "code",
   "execution_count": 66,
   "metadata": {},
   "outputs": [],
   "source": [
    "info = { name : list(values) for name, values in info.items()}"
   ]
  },
  {
   "cell_type": "code",
   "execution_count": 67,
   "metadata": {},
   "outputs": [
    {
     "data": {
      "text/plain": [
       "{' employee_1': [0.1, True, True],\n",
       " ' employee_2 employee_3': [0.1, True, True],\n",
       " ' employee_4': [0.05, True, True],\n",
       " ' founder_1': [0.25, True, True],\n",
       " ' founder_2': [0.25, True, True],\n",
       " ' investor_2': [0.1, True, True],\n",
       " 'investor_1': [0.1, True, True]}"
      ]
     },
     "execution_count": 67,
     "metadata": {},
     "output_type": "execute_result"
    }
   ],
   "source": [
    "info"
   ]
  },
  {
   "cell_type": "code",
   "execution_count": null,
   "metadata": {
    "collapsed": true
   },
   "outputs": [],
   "source": []
  }
 ],
 "metadata": {
  "kernelspec": {
   "display_name": "Python [conda env:py36]",
   "language": "python",
   "name": "conda-env-py36-py"
  },
  "language_info": {
   "codemirror_mode": {
    "name": "ipython",
    "version": 3
   },
   "file_extension": ".py",
   "mimetype": "text/x-python",
   "name": "python",
   "nbconvert_exporter": "python",
   "pygments_lexer": "ipython3",
   "version": "3.6.1"
  }
 },
 "nbformat": 4,
 "nbformat_minor": 2
}
